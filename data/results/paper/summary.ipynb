{
 "cells": [
  {
   "cell_type": "markdown",
   "metadata": {},
   "source": [
    "# Choose your sampling technique\n",
    "## Discussion: Top 3 techniques across configurations"
   ]
  },
  {
   "cell_type": "code",
   "metadata": {
    "ExecuteTime": {
     "end_time": "2024-08-09T06:34:54.765230Z",
     "start_time": "2024-08-09T06:34:54.049426Z"
    }
   },
   "source": [
    "import pandas as pd\n",
    "import ipywidgets as widgets\n",
    "from ipywidgets import interact, interact_manual\n",
    "import warnings\n",
    "warnings.filterwarnings('ignore')"
   ],
   "outputs": [],
   "execution_count": 1
  },
  {
   "cell_type": "code",
   "metadata": {
    "ExecuteTime": {
     "end_time": "2024-08-09T06:35:35.815617Z",
     "start_time": "2024-08-09T06:35:35.810393Z"
    }
   },
   "source": [
    "df = pd.read_csv(\"results.csv\")"
   ],
   "outputs": [],
   "execution_count": 3
  },
  {
   "cell_type": "code",
   "metadata": {
    "ExecuteTime": {
     "end_time": "2024-08-09T06:35:38.267158Z",
     "start_time": "2024-08-09T06:35:38.262276Z"
    }
   },
   "source": [
    "def compute_top(task,dataset,aux,budget):\n",
    "        df_temp = df.loc[df[\"budget\"] <= budget]\n",
    "        if(task!=\"\"):\n",
    "                df_temp = df.loc[df[\"task\"] == task]\n",
    "        if(dataset!=\"\"):\n",
    "                df_temp = df_temp.loc[df[\"dataset\"] == dataset]\n",
    "        if(aux!=\"\"):\n",
    "                df_temp = df_temp.loc[df[\"aux\"] == aux]\n",
    "        display(pd.DataFrame((df_temp[\"RMSE_top1\"].append(df_temp[\"RMSE_top2\"]).append(df_temp[\"RMSE_top3\"])).value_counts(),columns=[\"RMSE\"]))\n",
    "        display(pd.DataFrame((df_temp[\"RMedSE_top1\"].append(df_temp[\"RMedSE_top2\"]).append(df_temp[\"RMedSE_top3\"])).value_counts(),columns=[\"RMedSE\"]))\n",
    "        display(pd.DataFrame((df_temp[\"failures_top1\"].append(df_temp[\"failures_top2\"]).append(df_temp[\"failures_top3\"])).value_counts(),columns=[\"Failures\"]))"
   ],
   "outputs": [],
   "execution_count": 4
  },
  {
   "cell_type": "markdown",
   "metadata": {},
   "source": [
    "### Interactive widgets"
   ]
  },
  {
   "cell_type": "code",
   "metadata": {
    "scrolled": true,
    "ExecuteTime": {
     "end_time": "2024-08-09T06:35:50.146300Z",
     "start_time": "2024-08-09T06:35:50.109253Z"
    }
   },
   "source": [
    "interact(compute_top,task=[\"\",\"Classification\",\"Regression\"],aux=[\"\",\"confidence\",\"lsa\",\"dsa\",\"SAE\",\"VAE\"],budget=800,dataset=[\"\",\"MNIST\",\"CIFAR10\",\"CIFAR100\",\"Udacity\"])"
   ],
   "outputs": [
    {
     "data": {
      "text/plain": [
       "interactive(children=(Dropdown(description='task', options=('', 'Classification', 'Regression'), value=''), Dr…"
      ],
      "application/vnd.jupyter.widget-view+json": {
       "version_major": 2,
       "version_minor": 0,
       "model_id": "1cbc227e731b4a868eb7c05a5804085c"
      }
     },
     "metadata": {},
     "output_type": "display_data"
    },
    {
     "data": {
      "text/plain": [
       "<function __main__.compute_top(task, dataset, aux, budget)>"
      ]
     },
     "execution_count": 6,
     "metadata": {},
     "output_type": "execute_result"
    }
   ],
   "execution_count": 6
  },
  {
   "cell_type": "markdown",
   "metadata": {},
   "source": [
    "### Example of usage"
   ]
  },
  {
   "cell_type": "code",
   "metadata": {
    "ExecuteTime": {
     "end_time": "2024-08-09T06:35:56.456945Z",
     "start_time": "2024-08-09T06:35:56.436610Z"
    }
   },
   "source": "compute_top(\"Classification\",\"\",\"\",800)",
   "outputs": [
    {
     "ename": "AttributeError",
     "evalue": "'Series' object has no attribute 'append'",
     "output_type": "error",
     "traceback": [
      "\u001B[1;31m---------------------------------------------------------------------------\u001B[0m",
      "\u001B[1;31mAttributeError\u001B[0m                            Traceback (most recent call last)",
      "Cell \u001B[1;32mIn[8], line 1\u001B[0m\n\u001B[1;32m----> 1\u001B[0m \u001B[43mcompute_top\u001B[49m\u001B[43m(\u001B[49m\u001B[38;5;124;43m\"\u001B[39;49m\u001B[38;5;124;43mClassification\u001B[39;49m\u001B[38;5;124;43m\"\u001B[39;49m\u001B[43m,\u001B[49m\u001B[38;5;124;43m\"\u001B[39;49m\u001B[38;5;124;43m\"\u001B[39;49m\u001B[43m,\u001B[49m\u001B[38;5;124;43m\"\u001B[39;49m\u001B[38;5;124;43m\"\u001B[39;49m\u001B[43m,\u001B[49m\u001B[38;5;241;43m800\u001B[39;49m\u001B[43m)\u001B[49m\n",
      "Cell \u001B[1;32mIn[4], line 9\u001B[0m, in \u001B[0;36mcompute_top\u001B[1;34m(task, dataset, aux, budget)\u001B[0m\n\u001B[0;32m      7\u001B[0m \u001B[38;5;28;01mif\u001B[39;00m(aux\u001B[38;5;241m!=\u001B[39m\u001B[38;5;124m\"\u001B[39m\u001B[38;5;124m\"\u001B[39m):\n\u001B[0;32m      8\u001B[0m         df_temp \u001B[38;5;241m=\u001B[39m df_temp\u001B[38;5;241m.\u001B[39mloc[df[\u001B[38;5;124m\"\u001B[39m\u001B[38;5;124maux\u001B[39m\u001B[38;5;124m\"\u001B[39m] \u001B[38;5;241m==\u001B[39m aux]\n\u001B[1;32m----> 9\u001B[0m display(pd\u001B[38;5;241m.\u001B[39mDataFrame((\u001B[43mdf_temp\u001B[49m\u001B[43m[\u001B[49m\u001B[38;5;124;43m\"\u001B[39;49m\u001B[38;5;124;43mRMSE_top1\u001B[39;49m\u001B[38;5;124;43m\"\u001B[39;49m\u001B[43m]\u001B[49m\u001B[38;5;241;43m.\u001B[39;49m\u001B[43mappend\u001B[49m(df_temp[\u001B[38;5;124m\"\u001B[39m\u001B[38;5;124mRMSE_top2\u001B[39m\u001B[38;5;124m\"\u001B[39m])\u001B[38;5;241m.\u001B[39mappend(df_temp[\u001B[38;5;124m\"\u001B[39m\u001B[38;5;124mRMSE_top3\u001B[39m\u001B[38;5;124m\"\u001B[39m]))\u001B[38;5;241m.\u001B[39mvalue_counts(),columns\u001B[38;5;241m=\u001B[39m[\u001B[38;5;124m\"\u001B[39m\u001B[38;5;124mRMSE\u001B[39m\u001B[38;5;124m\"\u001B[39m]))\n\u001B[0;32m     10\u001B[0m display(pd\u001B[38;5;241m.\u001B[39mDataFrame((df_temp[\u001B[38;5;124m\"\u001B[39m\u001B[38;5;124mRMedSE_top1\u001B[39m\u001B[38;5;124m\"\u001B[39m]\u001B[38;5;241m.\u001B[39mappend(df_temp[\u001B[38;5;124m\"\u001B[39m\u001B[38;5;124mRMedSE_top2\u001B[39m\u001B[38;5;124m\"\u001B[39m])\u001B[38;5;241m.\u001B[39mappend(df_temp[\u001B[38;5;124m\"\u001B[39m\u001B[38;5;124mRMedSE_top3\u001B[39m\u001B[38;5;124m\"\u001B[39m]))\u001B[38;5;241m.\u001B[39mvalue_counts(),columns\u001B[38;5;241m=\u001B[39m[\u001B[38;5;124m\"\u001B[39m\u001B[38;5;124mRMedSE\u001B[39m\u001B[38;5;124m\"\u001B[39m]))\n\u001B[0;32m     11\u001B[0m display(pd\u001B[38;5;241m.\u001B[39mDataFrame((df_temp[\u001B[38;5;124m\"\u001B[39m\u001B[38;5;124mfailures_top1\u001B[39m\u001B[38;5;124m\"\u001B[39m]\u001B[38;5;241m.\u001B[39mappend(df_temp[\u001B[38;5;124m\"\u001B[39m\u001B[38;5;124mfailures_top2\u001B[39m\u001B[38;5;124m\"\u001B[39m])\u001B[38;5;241m.\u001B[39mappend(df_temp[\u001B[38;5;124m\"\u001B[39m\u001B[38;5;124mfailures_top3\u001B[39m\u001B[38;5;124m\"\u001B[39m]))\u001B[38;5;241m.\u001B[39mvalue_counts(),columns\u001B[38;5;241m=\u001B[39m[\u001B[38;5;124m\"\u001B[39m\u001B[38;5;124mFailures\u001B[39m\u001B[38;5;124m\"\u001B[39m]))\n",
      "File \u001B[1;32mE:\\Anaconda\\Anaconda Launcher\\envs\\DeepSample\\Lib\\site-packages\\pandas\\core\\generic.py:6299\u001B[0m, in \u001B[0;36mNDFrame.__getattr__\u001B[1;34m(self, name)\u001B[0m\n\u001B[0;32m   6292\u001B[0m \u001B[38;5;28;01mif\u001B[39;00m (\n\u001B[0;32m   6293\u001B[0m     name \u001B[38;5;129;01mnot\u001B[39;00m \u001B[38;5;129;01min\u001B[39;00m \u001B[38;5;28mself\u001B[39m\u001B[38;5;241m.\u001B[39m_internal_names_set\n\u001B[0;32m   6294\u001B[0m     \u001B[38;5;129;01mand\u001B[39;00m name \u001B[38;5;129;01mnot\u001B[39;00m \u001B[38;5;129;01min\u001B[39;00m \u001B[38;5;28mself\u001B[39m\u001B[38;5;241m.\u001B[39m_metadata\n\u001B[0;32m   6295\u001B[0m     \u001B[38;5;129;01mand\u001B[39;00m name \u001B[38;5;129;01mnot\u001B[39;00m \u001B[38;5;129;01min\u001B[39;00m \u001B[38;5;28mself\u001B[39m\u001B[38;5;241m.\u001B[39m_accessors\n\u001B[0;32m   6296\u001B[0m     \u001B[38;5;129;01mand\u001B[39;00m \u001B[38;5;28mself\u001B[39m\u001B[38;5;241m.\u001B[39m_info_axis\u001B[38;5;241m.\u001B[39m_can_hold_identifiers_and_holds_name(name)\n\u001B[0;32m   6297\u001B[0m ):\n\u001B[0;32m   6298\u001B[0m     \u001B[38;5;28;01mreturn\u001B[39;00m \u001B[38;5;28mself\u001B[39m[name]\n\u001B[1;32m-> 6299\u001B[0m \u001B[38;5;28;01mreturn\u001B[39;00m \u001B[38;5;28;43mobject\u001B[39;49m\u001B[38;5;241;43m.\u001B[39;49m\u001B[38;5;21;43m__getattribute__\u001B[39;49m\u001B[43m(\u001B[49m\u001B[38;5;28;43mself\u001B[39;49m\u001B[43m,\u001B[49m\u001B[43m \u001B[49m\u001B[43mname\u001B[49m\u001B[43m)\u001B[49m\n",
      "\u001B[1;31mAttributeError\u001B[0m: 'Series' object has no attribute 'append'"
     ]
    }
   ],
   "execution_count": 8
  },
  {
   "cell_type": "code",
   "execution_count": null,
   "metadata": {},
   "outputs": [],
   "source": []
  }
 ],
 "metadata": {
  "kernelspec": {
   "display_name": "Python 3",
   "language": "python",
   "name": "python3"
  },
  "language_info": {
   "codemirror_mode": {
    "name": "ipython",
    "version": 3
   },
   "file_extension": ".py",
   "mimetype": "text/x-python",
   "name": "python",
   "nbconvert_exporter": "python",
   "pygments_lexer": "ipython3",
   "version": "3.9.2"
  },
  "widgets": {
   "application/vnd.jupyter.widget-state+json": {
    "state": {
     "046d60ac65ab4a7ca09bd8e7b07406e3": {
      "model_module": "@jupyter-widgets/controls",
      "model_module_version": "1.5.0",
      "model_name": "DropdownModel",
      "state": {
       "_options_labels": [
        "",
        "Classification",
        "Regression"
       ],
       "description": "task",
       "index": 2,
       "layout": "IPY_MODEL_24fd343f8c384fbf8cfdfbc23832fb7a",
       "style": "IPY_MODEL_7ebb12a6759143fdb043f69846800764"
      }
     },
     "1b870867cdbd405795e44a72a9e66a31": {
      "model_module": "@jupyter-widgets/controls",
      "model_module_version": "1.5.0",
      "model_name": "VBoxModel",
      "state": {
       "_dom_classes": [
        "widget-interact"
       ],
       "children": [
        "IPY_MODEL_046d60ac65ab4a7ca09bd8e7b07406e3",
        "IPY_MODEL_7df2b80449af4c77914bf69295633a1c",
        "IPY_MODEL_aaa7a3a0e0ed431097a88135ebcb8758",
        "IPY_MODEL_96bba4df0f11404d9fd8fb2d5d41914c",
        "IPY_MODEL_a6c1e1e7613147b8a3b3639399f09069"
       ],
       "layout": "IPY_MODEL_ee5e1f27994a417e882926aaae857470"
      }
     },
     "24fd343f8c384fbf8cfdfbc23832fb7a": {
      "model_module": "@jupyter-widgets/base",
      "model_module_version": "1.2.0",
      "model_name": "LayoutModel",
      "state": {}
     },
     "2a6492e681134c2abe57ab963ba96546": {
      "model_module": "@jupyter-widgets/base",
      "model_module_version": "1.2.0",
      "model_name": "LayoutModel",
      "state": {}
     },
     "32a3ef76ee5e44438bc9d05fb25508ee": {
      "model_module": "@jupyter-widgets/base",
      "model_module_version": "1.2.0",
      "model_name": "LayoutModel",
      "state": {}
     },
     "7df2b80449af4c77914bf69295633a1c": {
      "model_module": "@jupyter-widgets/controls",
      "model_module_version": "1.5.0",
      "model_name": "DropdownModel",
      "state": {
       "_options_labels": [
        "",
        "MNIST",
        "CIFAR10",
        "CIFAR100",
        "Udacity"
       ],
       "description": "dataset",
       "index": 0,
       "layout": "IPY_MODEL_2a6492e681134c2abe57ab963ba96546",
       "style": "IPY_MODEL_c2bd8262090d45489b1f869ded2c1b1a"
      }
     },
     "7ebb12a6759143fdb043f69846800764": {
      "model_module": "@jupyter-widgets/controls",
      "model_module_version": "1.5.0",
      "model_name": "DescriptionStyleModel",
      "state": {
       "description_width": ""
      }
     },
     "8a528cf4eb49407eab505d40000ef32a": {
      "model_module": "@jupyter-widgets/controls",
      "model_module_version": "1.5.0",
      "model_name": "DescriptionStyleModel",
      "state": {
       "description_width": ""
      }
     },
     "96bba4df0f11404d9fd8fb2d5d41914c": {
      "model_module": "@jupyter-widgets/controls",
      "model_module_version": "1.5.0",
      "model_name": "IntSliderModel",
      "state": {
       "description": "budget",
       "layout": "IPY_MODEL_e31a0f3324aa49aa94d3e34a229d83bf",
       "max": 2400,
       "min": -800,
       "style": "IPY_MODEL_e370a85a070a4914adbfc706399f2ff4",
       "value": 800
      }
     },
     "a6c1e1e7613147b8a3b3639399f09069": {
      "model_module": "@jupyter-widgets/output",
      "model_module_version": "1.0.0",
      "model_name": "OutputModel",
      "state": {
       "layout": "IPY_MODEL_32a3ef76ee5e44438bc9d05fb25508ee",
       "outputs": [
        {
         "data": {
          "text/html": "<div>\n<style scoped>\n    .dataframe tbody tr th:only-of-type {\n        vertical-align: middle;\n    }\n\n    .dataframe tbody tr th {\n        vertical-align: top;\n    }\n\n    .dataframe thead th {\n        text-align: right;\n    }\n</style>\n<table border=\"1\" class=\"dataframe\">\n  <thead>\n    <tr style=\"text-align: right;\">\n      <th></th>\n      <th>RMSE</th>\n    </tr>\n  </thead>\n  <tbody>\n    <tr>\n      <th>CES</th>\n      <td>20</td>\n    </tr>\n    <tr>\n      <th>SSRS</th>\n      <td>19</td>\n    </tr>\n    <tr>\n      <th>RHC-S</th>\n      <td>18</td>\n    </tr>\n    <tr>\n      <th>SRS</th>\n      <td>17</td>\n    </tr>\n    <tr>\n      <th>SUPS</th>\n      <td>16</td>\n    </tr>\n  </tbody>\n</table>\n</div>",
          "text/plain": "       RMSE\nCES      20\nSSRS     19\nRHC-S    18\nSRS      17\nSUPS     16"
         },
         "metadata": {},
         "output_type": "display_data"
        },
        {
         "data": {
          "text/html": "<div>\n<style scoped>\n    .dataframe tbody tr th:only-of-type {\n        vertical-align: middle;\n    }\n\n    .dataframe tbody tr th {\n        vertical-align: top;\n    }\n\n    .dataframe thead th {\n        text-align: right;\n    }\n</style>\n<table border=\"1\" class=\"dataframe\">\n  <thead>\n    <tr style=\"text-align: right;\">\n      <th></th>\n      <th>RMedSE</th>\n    </tr>\n  </thead>\n  <tbody>\n    <tr>\n      <th>SSRS</th>\n      <td>24</td>\n    </tr>\n    <tr>\n      <th>SUPS</th>\n      <td>18</td>\n    </tr>\n    <tr>\n      <th>RHC-S</th>\n      <td>15</td>\n    </tr>\n    <tr>\n      <th>SRS</th>\n      <td>15</td>\n    </tr>\n    <tr>\n      <th>CES</th>\n      <td>14</td>\n    </tr>\n    <tr>\n      <th>2-UPS</th>\n      <td>3</td>\n    </tr>\n    <tr>\n      <th>DeepEST</th>\n      <td>1</td>\n    </tr>\n  </tbody>\n</table>\n</div>",
          "text/plain": "         RMedSE\nSSRS         24\nSUPS         18\nRHC-S        15\nSRS          15\nCES          14\n2-UPS         3\nDeepEST       1"
         },
         "metadata": {},
         "output_type": "display_data"
        },
        {
         "data": {
          "text/html": "<div>\n<style scoped>\n    .dataframe tbody tr th:only-of-type {\n        vertical-align: middle;\n    }\n\n    .dataframe tbody tr th {\n        vertical-align: top;\n    }\n\n    .dataframe thead th {\n        text-align: right;\n    }\n</style>\n<table border=\"1\" class=\"dataframe\">\n  <thead>\n    <tr style=\"text-align: right;\">\n      <th></th>\n      <th>Failures</th>\n    </tr>\n  </thead>\n  <tbody>\n    <tr>\n      <th>SSRS</th>\n      <td>19</td>\n    </tr>\n    <tr>\n      <th>SUPS</th>\n      <td>16</td>\n    </tr>\n    <tr>\n      <th>GBS</th>\n      <td>16</td>\n    </tr>\n    <tr>\n      <th>RHC-S</th>\n      <td>13</td>\n    </tr>\n    <tr>\n      <th>2-UPS</th>\n      <td>13</td>\n    </tr>\n    <tr>\n      <th>DeepEST</th>\n      <td>7</td>\n    </tr>\n    <tr>\n      <th>CES</th>\n      <td>6</td>\n    </tr>\n  </tbody>\n</table>\n</div>",
          "text/plain": "         Failures\nSSRS           19\nSUPS           16\nGBS            16\nRHC-S          13\n2-UPS          13\nDeepEST         7\nCES             6"
         },
         "metadata": {},
         "output_type": "display_data"
        }
       ]
      }
     },
     "aaa7a3a0e0ed431097a88135ebcb8758": {
      "model_module": "@jupyter-widgets/controls",
      "model_module_version": "1.5.0",
      "model_name": "DropdownModel",
      "state": {
       "_options_labels": [
        "",
        "confidence",
        "lsa",
        "dsa",
        "SAE",
        "VAE"
       ],
       "description": "aux",
       "index": 0,
       "layout": "IPY_MODEL_b17988819b69436e8bc7017fc02ef7ea",
       "style": "IPY_MODEL_8a528cf4eb49407eab505d40000ef32a"
      }
     },
     "b17988819b69436e8bc7017fc02ef7ea": {
      "model_module": "@jupyter-widgets/base",
      "model_module_version": "1.2.0",
      "model_name": "LayoutModel",
      "state": {}
     },
     "c2bd8262090d45489b1f869ded2c1b1a": {
      "model_module": "@jupyter-widgets/controls",
      "model_module_version": "1.5.0",
      "model_name": "DescriptionStyleModel",
      "state": {
       "description_width": ""
      }
     },
     "e31a0f3324aa49aa94d3e34a229d83bf": {
      "model_module": "@jupyter-widgets/base",
      "model_module_version": "1.2.0",
      "model_name": "LayoutModel",
      "state": {}
     },
     "e370a85a070a4914adbfc706399f2ff4": {
      "model_module": "@jupyter-widgets/controls",
      "model_module_version": "1.5.0",
      "model_name": "SliderStyleModel",
      "state": {
       "description_width": ""
      }
     },
     "ee5e1f27994a417e882926aaae857470": {
      "model_module": "@jupyter-widgets/base",
      "model_module_version": "1.2.0",
      "model_name": "LayoutModel",
      "state": {}
     }
    },
    "version_major": 2,
    "version_minor": 0
   }
  }
 },
 "nbformat": 4,
 "nbformat_minor": 2
}
